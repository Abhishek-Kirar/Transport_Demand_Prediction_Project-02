{
  "nbformat": 4,
  "nbformat_minor": 0,
  "metadata": {
    "colab": {
      "name": "Final_Colab_N-Book_Nairobi_Public_Transport_Demand_Prediction.ipynb",
      "provenance": [],
      "collapsed_sections": [],
      "include_colab_link": true
    },
    "kernelspec": {
      "name": "python3",
      "display_name": "Python 3"
    },
    "language_info": {
      "name": "python"
    }
  },
  "cells": [
    {
      "cell_type": "markdown",
      "metadata": {
        "id": "view-in-github",
        "colab_type": "text"
      },
      "source": [
        "<a href=\"https://colab.research.google.com/github/abkirar27/Transport_Demand_Prediction-Capstone_Project-2/blob/main/Final_Colab_N_Book_Nairobi_Public_Transport_Demand_Prediction.ipynb\" target=\"_parent\"><img src=\"https://colab.research.google.com/assets/colab-badge.svg\" alt=\"Open In Colab\"/></a>"
      ]
    },
    {
      "cell_type": "markdown",
      "source": [
        "# <b><u> Project Title : Traffic Jam: Predicting People's Movement into Nairobi </u></b>\n",
        "\n"
      ],
      "metadata": {
        "id": "xaDm7jFhz-4T"
      }
    },
    {
      "cell_type": "markdown",
      "source": [
        "## <b> Problem Description </b>\n",
        "\n",
        "### This challenge asks you to build a model that predicts the number of seats that Mobiticket can expect to sell for each ride, i.e. for a specific route on a specific date and time. There are 14 routes in this dataset. All of the routes end in Nairobi and originate in towns to the North-West of Nairobi towards Lake Victoria.\n",
        "\n",
        "\n",
        "### The towns from which these routes originate are:\n",
        "\n",
        "* Awendo\n",
        "* Homa Bay\n",
        "* Kehancha\n",
        "* Kendu Bay\n",
        "* Keroka\n",
        "* Keumbu\n",
        "* Kijauri\n",
        "* Kisii\n",
        "* Mbita\n",
        "* Migori\n",
        "* Ndhiwa\n",
        "* Nyachenge\n",
        "* Oyugis\n",
        "* Rodi\n",
        "* Rongo\n",
        "* Sirare\n",
        "* Sori\n",
        "\n",
        "### The routes from these 14 origins to the first stop in the outskirts of Nairobi takes approximately 8 to 9 hours from time of departure. From the first stop in the outskirts of Nairobi into the main bus terminal, where most passengers get off, in Central Business District, takes another 2 to 3 hours depending on traffic.\n",
        "\n",
        "### The three stops that all these routes make in Nairobi (in order) are:\n",
        "\n",
        "1. Kawangware: the first stop in the outskirts of Nairobi\n",
        "2. Westlands\n",
        "3. Afya Centre: the main bus terminal where most passengers disembark\n",
        "\n",
        "\n",
        "### Passengers of these bus (or shuttle) rides are affected by Nairobi traffic not only during their ride into the city, but from there they must continue their journey to their final destination in Nairobi wherever that may be. Traffic can act as a deterrent for those who have the option to avoid buses that arrive in Nairobi during peak traffic hours. On the other hand, traffic may be an indication for people’s movement patterns, reflecting business hours, cultural events, political events, and holidays."
      ],
      "metadata": {
        "id": "w5-LUhNv0LBA"
      }
    },
    {
      "cell_type": "markdown",
      "source": [
        "## <b> Data Description </b>\n",
        "\n",
        "### <b>Nairobi Public Transport Data.csv (zipped)</b> is the dataset of tickets purchased from Mobiticket for the 14 routes from “up country” into Nairobi between 17 October 2017 and 20 April 2018. This dataset includes the variables: ride_id, seat_number, payment_method, payment_receipt, travel_date, travel_time, travel_from, travel_to, car_type, max_capacity.\n",
        "\n",
        "\n",
        "Data is available for Nairobi through June 2018. Uber Movement provided historic hourly travel time between any two points in Nairobi. Any tables that are extracted from the Uber Movement platform can be used in your model.\n",
        "\n",
        "### Variables description:\n",
        "\n",
        "* #### ride_id: unique ID of a vehicle on a specific route on a specific day and time.\n",
        "* #### seat_number: seat assigned to ticket\n",
        "* #### payment_method: method used by customer to purchase ticket from Mobiticket (cash or Mpesa)\n",
        "* #### payment_receipt: unique id number for ticket purchased from Mobiticket\n",
        "* #### travel_date: date of ride departure. (MM/DD/YYYY)\n",
        "* #### travel_time: scheduled departure time of ride. Rides generally depart on time. (hh:mm)\n",
        "* #### travel_from: town from which ride originated\n",
        "* #### travel_to: destination of ride. All rides are to Nairobi.\n",
        "* #### car_type: vehicle type (shuttle or bus)\n",
        "* #### max_capacity: number of seats on the vehicle"
      ],
      "metadata": {
        "id": "SRF8bn-70Pky"
      }
    },
    {
      "cell_type": "markdown",
      "source": [
        "Importing libraries"
      ],
      "metadata": {
        "id": "ZPaLCik20VQ5"
      }
    },
    {
      "cell_type": "code",
      "execution_count": 168,
      "metadata": {
        "id": "G-zd2sdg3SdB"
      },
      "outputs": [],
      "source": [
        "import numpy as np\n",
        "import pandas as pd\n",
        "import matplotlib.pyplot as plt\n",
        "%matplotlib inline\n",
        "import seaborn as sns\n",
        "import datetime"
      ]
    },
    {
      "cell_type": "code",
      "source": [
        "#Mounting Drive\n",
        "\n",
        "from google.colab import drive\n",
        "drive.mount('/content/drive')"
      ],
      "metadata": {
        "id": "O4Q3ai-A32hn",
        "colab": {
          "base_uri": "https://localhost:8080/"
        },
        "outputId": "1a58096a-9e83-41f2-a002-7dd31163655e"
      },
      "execution_count": 169,
      "outputs": [
        {
          "output_type": "stream",
          "name": "stdout",
          "text": [
            "Drive already mounted at /content/drive; to attempt to forcibly remount, call drive.mount(\"/content/drive\", force_remount=True).\n"
          ]
        }
      ]
    },
    {
      "cell_type": "code",
      "source": [
        "#Importing csv file using pandas .read_csv() function\n",
        "\n",
        "df_1 = pd.read_csv('/content/drive/MyDrive/train_revised.csv')  "
      ],
      "metadata": {
        "id": "mrBy1Ork3_TJ"
      },
      "execution_count": 170,
      "outputs": []
    },
    {
      "cell_type": "code",
      "source": [
        "#Checking first 5 rows of the Dataframe using .head() function\n",
        "\n",
        "df_1.head()"
      ],
      "metadata": {
        "id": "gPBmgDYJcLTO",
        "colab": {
          "base_uri": "https://localhost:8080/",
          "height": 206
        },
        "outputId": "7f5f7928-2f97-4f48-c5bf-a2c292c1f12d"
      },
      "execution_count": 171,
      "outputs": [
        {
          "output_type": "execute_result",
          "data": {
            "text/plain": [
              "   ride_id seat_number payment_method payment_receipt travel_date travel_time  \\\n",
              "0     1442         15A          Mpesa      UZUEHCBUSO    17-10-17        7:15   \n",
              "1     5437         14A          Mpesa      TIHLBUSGTE    19-11-17        7:12   \n",
              "2     5710          8B          Mpesa      EQX8Q5G19O    26-11-17        7:05   \n",
              "3     5777         19A          Mpesa      SGP18CL0ME    27-11-17        7:10   \n",
              "4     5778         11A          Mpesa      BM97HFRGL9    27-11-17        7:12   \n",
              "\n",
              "  travel_from travel_to car_type  max_capacity  \n",
              "0      Migori   Nairobi      Bus            49  \n",
              "1      Migori   Nairobi      Bus            49  \n",
              "2      Keroka   Nairobi      Bus            49  \n",
              "3    Homa Bay   Nairobi      Bus            49  \n",
              "4      Migori   Nairobi      Bus            49  "
            ],
            "text/html": [
              "\n",
              "  <div id=\"df-07336306-24e3-4ecc-a806-d1b0de932e3c\">\n",
              "    <div class=\"colab-df-container\">\n",
              "      <div>\n",
              "<style scoped>\n",
              "    .dataframe tbody tr th:only-of-type {\n",
              "        vertical-align: middle;\n",
              "    }\n",
              "\n",
              "    .dataframe tbody tr th {\n",
              "        vertical-align: top;\n",
              "    }\n",
              "\n",
              "    .dataframe thead th {\n",
              "        text-align: right;\n",
              "    }\n",
              "</style>\n",
              "<table border=\"1\" class=\"dataframe\">\n",
              "  <thead>\n",
              "    <tr style=\"text-align: right;\">\n",
              "      <th></th>\n",
              "      <th>ride_id</th>\n",
              "      <th>seat_number</th>\n",
              "      <th>payment_method</th>\n",
              "      <th>payment_receipt</th>\n",
              "      <th>travel_date</th>\n",
              "      <th>travel_time</th>\n",
              "      <th>travel_from</th>\n",
              "      <th>travel_to</th>\n",
              "      <th>car_type</th>\n",
              "      <th>max_capacity</th>\n",
              "    </tr>\n",
              "  </thead>\n",
              "  <tbody>\n",
              "    <tr>\n",
              "      <th>0</th>\n",
              "      <td>1442</td>\n",
              "      <td>15A</td>\n",
              "      <td>Mpesa</td>\n",
              "      <td>UZUEHCBUSO</td>\n",
              "      <td>17-10-17</td>\n",
              "      <td>7:15</td>\n",
              "      <td>Migori</td>\n",
              "      <td>Nairobi</td>\n",
              "      <td>Bus</td>\n",
              "      <td>49</td>\n",
              "    </tr>\n",
              "    <tr>\n",
              "      <th>1</th>\n",
              "      <td>5437</td>\n",
              "      <td>14A</td>\n",
              "      <td>Mpesa</td>\n",
              "      <td>TIHLBUSGTE</td>\n",
              "      <td>19-11-17</td>\n",
              "      <td>7:12</td>\n",
              "      <td>Migori</td>\n",
              "      <td>Nairobi</td>\n",
              "      <td>Bus</td>\n",
              "      <td>49</td>\n",
              "    </tr>\n",
              "    <tr>\n",
              "      <th>2</th>\n",
              "      <td>5710</td>\n",
              "      <td>8B</td>\n",
              "      <td>Mpesa</td>\n",
              "      <td>EQX8Q5G19O</td>\n",
              "      <td>26-11-17</td>\n",
              "      <td>7:05</td>\n",
              "      <td>Keroka</td>\n",
              "      <td>Nairobi</td>\n",
              "      <td>Bus</td>\n",
              "      <td>49</td>\n",
              "    </tr>\n",
              "    <tr>\n",
              "      <th>3</th>\n",
              "      <td>5777</td>\n",
              "      <td>19A</td>\n",
              "      <td>Mpesa</td>\n",
              "      <td>SGP18CL0ME</td>\n",
              "      <td>27-11-17</td>\n",
              "      <td>7:10</td>\n",
              "      <td>Homa Bay</td>\n",
              "      <td>Nairobi</td>\n",
              "      <td>Bus</td>\n",
              "      <td>49</td>\n",
              "    </tr>\n",
              "    <tr>\n",
              "      <th>4</th>\n",
              "      <td>5778</td>\n",
              "      <td>11A</td>\n",
              "      <td>Mpesa</td>\n",
              "      <td>BM97HFRGL9</td>\n",
              "      <td>27-11-17</td>\n",
              "      <td>7:12</td>\n",
              "      <td>Migori</td>\n",
              "      <td>Nairobi</td>\n",
              "      <td>Bus</td>\n",
              "      <td>49</td>\n",
              "    </tr>\n",
              "  </tbody>\n",
              "</table>\n",
              "</div>\n",
              "      <button class=\"colab-df-convert\" onclick=\"convertToInteractive('df-07336306-24e3-4ecc-a806-d1b0de932e3c')\"\n",
              "              title=\"Convert this dataframe to an interactive table.\"\n",
              "              style=\"display:none;\">\n",
              "        \n",
              "  <svg xmlns=\"http://www.w3.org/2000/svg\" height=\"24px\"viewBox=\"0 0 24 24\"\n",
              "       width=\"24px\">\n",
              "    <path d=\"M0 0h24v24H0V0z\" fill=\"none\"/>\n",
              "    <path d=\"M18.56 5.44l.94 2.06.94-2.06 2.06-.94-2.06-.94-.94-2.06-.94 2.06-2.06.94zm-11 1L8.5 8.5l.94-2.06 2.06-.94-2.06-.94L8.5 2.5l-.94 2.06-2.06.94zm10 10l.94 2.06.94-2.06 2.06-.94-2.06-.94-.94-2.06-.94 2.06-2.06.94z\"/><path d=\"M17.41 7.96l-1.37-1.37c-.4-.4-.92-.59-1.43-.59-.52 0-1.04.2-1.43.59L10.3 9.45l-7.72 7.72c-.78.78-.78 2.05 0 2.83L4 21.41c.39.39.9.59 1.41.59.51 0 1.02-.2 1.41-.59l7.78-7.78 2.81-2.81c.8-.78.8-2.07 0-2.86zM5.41 20L4 18.59l7.72-7.72 1.47 1.35L5.41 20z\"/>\n",
              "  </svg>\n",
              "      </button>\n",
              "      \n",
              "  <style>\n",
              "    .colab-df-container {\n",
              "      display:flex;\n",
              "      flex-wrap:wrap;\n",
              "      gap: 12px;\n",
              "    }\n",
              "\n",
              "    .colab-df-convert {\n",
              "      background-color: #E8F0FE;\n",
              "      border: none;\n",
              "      border-radius: 50%;\n",
              "      cursor: pointer;\n",
              "      display: none;\n",
              "      fill: #1967D2;\n",
              "      height: 32px;\n",
              "      padding: 0 0 0 0;\n",
              "      width: 32px;\n",
              "    }\n",
              "\n",
              "    .colab-df-convert:hover {\n",
              "      background-color: #E2EBFA;\n",
              "      box-shadow: 0px 1px 2px rgba(60, 64, 67, 0.3), 0px 1px 3px 1px rgba(60, 64, 67, 0.15);\n",
              "      fill: #174EA6;\n",
              "    }\n",
              "\n",
              "    [theme=dark] .colab-df-convert {\n",
              "      background-color: #3B4455;\n",
              "      fill: #D2E3FC;\n",
              "    }\n",
              "\n",
              "    [theme=dark] .colab-df-convert:hover {\n",
              "      background-color: #434B5C;\n",
              "      box-shadow: 0px 1px 3px 1px rgba(0, 0, 0, 0.15);\n",
              "      filter: drop-shadow(0px 1px 2px rgba(0, 0, 0, 0.3));\n",
              "      fill: #FFFFFF;\n",
              "    }\n",
              "  </style>\n",
              "\n",
              "      <script>\n",
              "        const buttonEl =\n",
              "          document.querySelector('#df-07336306-24e3-4ecc-a806-d1b0de932e3c button.colab-df-convert');\n",
              "        buttonEl.style.display =\n",
              "          google.colab.kernel.accessAllowed ? 'block' : 'none';\n",
              "\n",
              "        async function convertToInteractive(key) {\n",
              "          const element = document.querySelector('#df-07336306-24e3-4ecc-a806-d1b0de932e3c');\n",
              "          const dataTable =\n",
              "            await google.colab.kernel.invokeFunction('convertToInteractive',\n",
              "                                                     [key], {});\n",
              "          if (!dataTable) return;\n",
              "\n",
              "          const docLinkHtml = 'Like what you see? Visit the ' +\n",
              "            '<a target=\"_blank\" href=https://colab.research.google.com/notebooks/data_table.ipynb>data table notebook</a>'\n",
              "            + ' to learn more about interactive tables.';\n",
              "          element.innerHTML = '';\n",
              "          dataTable['output_type'] = 'display_data';\n",
              "          await google.colab.output.renderOutput(dataTable, element);\n",
              "          const docLink = document.createElement('div');\n",
              "          docLink.innerHTML = docLinkHtml;\n",
              "          element.appendChild(docLink);\n",
              "        }\n",
              "      </script>\n",
              "    </div>\n",
              "  </div>\n",
              "  "
            ]
          },
          "metadata": {},
          "execution_count": 171
        }
      ]
    },
    {
      "cell_type": "markdown",
      "source": [
        "**Data Pre-Processing**"
      ],
      "metadata": {
        "id": "b7Gr8LxycwCu"
      }
    },
    {
      "cell_type": "code",
      "source": [
        "#Checking information of d1_1 using .info() function\n",
        "\n",
        "df_1.info()"
      ],
      "metadata": {
        "id": "ZK1r6Iq6cOuV",
        "colab": {
          "base_uri": "https://localhost:8080/"
        },
        "outputId": "71f6b1da-6222-418a-bfc6-c77aab8a8753"
      },
      "execution_count": 172,
      "outputs": [
        {
          "output_type": "stream",
          "name": "stdout",
          "text": [
            "<class 'pandas.core.frame.DataFrame'>\n",
            "RangeIndex: 51645 entries, 0 to 51644\n",
            "Data columns (total 10 columns):\n",
            " #   Column           Non-Null Count  Dtype \n",
            "---  ------           --------------  ----- \n",
            " 0   ride_id          51645 non-null  int64 \n",
            " 1   seat_number      51645 non-null  object\n",
            " 2   payment_method   51645 non-null  object\n",
            " 3   payment_receipt  51645 non-null  object\n",
            " 4   travel_date      51645 non-null  object\n",
            " 5   travel_time      51645 non-null  object\n",
            " 6   travel_from      51645 non-null  object\n",
            " 7   travel_to        51645 non-null  object\n",
            " 8   car_type         51645 non-null  object\n",
            " 9   max_capacity     51645 non-null  int64 \n",
            "dtypes: int64(2), object(8)\n",
            "memory usage: 3.9+ MB\n"
          ]
        }
      ]
    },
    {
      "cell_type": "code",
      "source": [
        "#Checking total rows and columns present in df_1\n",
        "\n",
        "df_1.shape"
      ],
      "metadata": {
        "id": "EDlc8GkvcR4l",
        "colab": {
          "base_uri": "https://localhost:8080/"
        },
        "outputId": "c76acdf1-b694-40b8-b2de-981d50083c61"
      },
      "execution_count": 173,
      "outputs": [
        {
          "output_type": "execute_result",
          "data": {
            "text/plain": [
              "(51645, 10)"
            ]
          },
          "metadata": {},
          "execution_count": 173
        }
      ]
    },
    {
      "cell_type": "code",
      "source": [
        "#Using .describe() function checking count,mean,std,min etc in df_1\n",
        "\n",
        "df_1.describe(include='object')"
      ],
      "metadata": {
        "id": "QZNBXU0rcZZn",
        "colab": {
          "base_uri": "https://localhost:8080/",
          "height": 175
        },
        "outputId": "946d9b60-e10b-44ba-b991-3a366fc54d74"
      },
      "execution_count": 174,
      "outputs": [
        {
          "output_type": "execute_result",
          "data": {
            "text/plain": [
              "       seat_number payment_method payment_receipt travel_date travel_time  \\\n",
              "count        51645          51645           51645       51645       51645   \n",
              "unique          61              2           51645         149          78   \n",
              "top              1          Mpesa      UZUEHCBUSO    10-12-17        7:09   \n",
              "freq          2065          51532               1         856        3926   \n",
              "\n",
              "       travel_from travel_to car_type  \n",
              "count        51645     51645    51645  \n",
              "unique          17         1        2  \n",
              "top          Kisii   Nairobi      Bus  \n",
              "freq         22607     51645    31985  "
            ],
            "text/html": [
              "\n",
              "  <div id=\"df-8c54b196-713f-4f25-b5d4-8c999d80dce9\">\n",
              "    <div class=\"colab-df-container\">\n",
              "      <div>\n",
              "<style scoped>\n",
              "    .dataframe tbody tr th:only-of-type {\n",
              "        vertical-align: middle;\n",
              "    }\n",
              "\n",
              "    .dataframe tbody tr th {\n",
              "        vertical-align: top;\n",
              "    }\n",
              "\n",
              "    .dataframe thead th {\n",
              "        text-align: right;\n",
              "    }\n",
              "</style>\n",
              "<table border=\"1\" class=\"dataframe\">\n",
              "  <thead>\n",
              "    <tr style=\"text-align: right;\">\n",
              "      <th></th>\n",
              "      <th>seat_number</th>\n",
              "      <th>payment_method</th>\n",
              "      <th>payment_receipt</th>\n",
              "      <th>travel_date</th>\n",
              "      <th>travel_time</th>\n",
              "      <th>travel_from</th>\n",
              "      <th>travel_to</th>\n",
              "      <th>car_type</th>\n",
              "    </tr>\n",
              "  </thead>\n",
              "  <tbody>\n",
              "    <tr>\n",
              "      <th>count</th>\n",
              "      <td>51645</td>\n",
              "      <td>51645</td>\n",
              "      <td>51645</td>\n",
              "      <td>51645</td>\n",
              "      <td>51645</td>\n",
              "      <td>51645</td>\n",
              "      <td>51645</td>\n",
              "      <td>51645</td>\n",
              "    </tr>\n",
              "    <tr>\n",
              "      <th>unique</th>\n",
              "      <td>61</td>\n",
              "      <td>2</td>\n",
              "      <td>51645</td>\n",
              "      <td>149</td>\n",
              "      <td>78</td>\n",
              "      <td>17</td>\n",
              "      <td>1</td>\n",
              "      <td>2</td>\n",
              "    </tr>\n",
              "    <tr>\n",
              "      <th>top</th>\n",
              "      <td>1</td>\n",
              "      <td>Mpesa</td>\n",
              "      <td>UZUEHCBUSO</td>\n",
              "      <td>10-12-17</td>\n",
              "      <td>7:09</td>\n",
              "      <td>Kisii</td>\n",
              "      <td>Nairobi</td>\n",
              "      <td>Bus</td>\n",
              "    </tr>\n",
              "    <tr>\n",
              "      <th>freq</th>\n",
              "      <td>2065</td>\n",
              "      <td>51532</td>\n",
              "      <td>1</td>\n",
              "      <td>856</td>\n",
              "      <td>3926</td>\n",
              "      <td>22607</td>\n",
              "      <td>51645</td>\n",
              "      <td>31985</td>\n",
              "    </tr>\n",
              "  </tbody>\n",
              "</table>\n",
              "</div>\n",
              "      <button class=\"colab-df-convert\" onclick=\"convertToInteractive('df-8c54b196-713f-4f25-b5d4-8c999d80dce9')\"\n",
              "              title=\"Convert this dataframe to an interactive table.\"\n",
              "              style=\"display:none;\">\n",
              "        \n",
              "  <svg xmlns=\"http://www.w3.org/2000/svg\" height=\"24px\"viewBox=\"0 0 24 24\"\n",
              "       width=\"24px\">\n",
              "    <path d=\"M0 0h24v24H0V0z\" fill=\"none\"/>\n",
              "    <path d=\"M18.56 5.44l.94 2.06.94-2.06 2.06-.94-2.06-.94-.94-2.06-.94 2.06-2.06.94zm-11 1L8.5 8.5l.94-2.06 2.06-.94-2.06-.94L8.5 2.5l-.94 2.06-2.06.94zm10 10l.94 2.06.94-2.06 2.06-.94-2.06-.94-.94-2.06-.94 2.06-2.06.94z\"/><path d=\"M17.41 7.96l-1.37-1.37c-.4-.4-.92-.59-1.43-.59-.52 0-1.04.2-1.43.59L10.3 9.45l-7.72 7.72c-.78.78-.78 2.05 0 2.83L4 21.41c.39.39.9.59 1.41.59.51 0 1.02-.2 1.41-.59l7.78-7.78 2.81-2.81c.8-.78.8-2.07 0-2.86zM5.41 20L4 18.59l7.72-7.72 1.47 1.35L5.41 20z\"/>\n",
              "  </svg>\n",
              "      </button>\n",
              "      \n",
              "  <style>\n",
              "    .colab-df-container {\n",
              "      display:flex;\n",
              "      flex-wrap:wrap;\n",
              "      gap: 12px;\n",
              "    }\n",
              "\n",
              "    .colab-df-convert {\n",
              "      background-color: #E8F0FE;\n",
              "      border: none;\n",
              "      border-radius: 50%;\n",
              "      cursor: pointer;\n",
              "      display: none;\n",
              "      fill: #1967D2;\n",
              "      height: 32px;\n",
              "      padding: 0 0 0 0;\n",
              "      width: 32px;\n",
              "    }\n",
              "\n",
              "    .colab-df-convert:hover {\n",
              "      background-color: #E2EBFA;\n",
              "      box-shadow: 0px 1px 2px rgba(60, 64, 67, 0.3), 0px 1px 3px 1px rgba(60, 64, 67, 0.15);\n",
              "      fill: #174EA6;\n",
              "    }\n",
              "\n",
              "    [theme=dark] .colab-df-convert {\n",
              "      background-color: #3B4455;\n",
              "      fill: #D2E3FC;\n",
              "    }\n",
              "\n",
              "    [theme=dark] .colab-df-convert:hover {\n",
              "      background-color: #434B5C;\n",
              "      box-shadow: 0px 1px 3px 1px rgba(0, 0, 0, 0.15);\n",
              "      filter: drop-shadow(0px 1px 2px rgba(0, 0, 0, 0.3));\n",
              "      fill: #FFFFFF;\n",
              "    }\n",
              "  </style>\n",
              "\n",
              "      <script>\n",
              "        const buttonEl =\n",
              "          document.querySelector('#df-8c54b196-713f-4f25-b5d4-8c999d80dce9 button.colab-df-convert');\n",
              "        buttonEl.style.display =\n",
              "          google.colab.kernel.accessAllowed ? 'block' : 'none';\n",
              "\n",
              "        async function convertToInteractive(key) {\n",
              "          const element = document.querySelector('#df-8c54b196-713f-4f25-b5d4-8c999d80dce9');\n",
              "          const dataTable =\n",
              "            await google.colab.kernel.invokeFunction('convertToInteractive',\n",
              "                                                     [key], {});\n",
              "          if (!dataTable) return;\n",
              "\n",
              "          const docLinkHtml = 'Like what you see? Visit the ' +\n",
              "            '<a target=\"_blank\" href=https://colab.research.google.com/notebooks/data_table.ipynb>data table notebook</a>'\n",
              "            + ' to learn more about interactive tables.';\n",
              "          element.innerHTML = '';\n",
              "          dataTable['output_type'] = 'display_data';\n",
              "          await google.colab.output.renderOutput(dataTable, element);\n",
              "          const docLink = document.createElement('div');\n",
              "          docLink.innerHTML = docLinkHtml;\n",
              "          element.appendChild(docLink);\n",
              "        }\n",
              "      </script>\n",
              "    </div>\n",
              "  </div>\n",
              "  "
            ]
          },
          "metadata": {},
          "execution_count": 174
        }
      ]
    },
    {
      "cell_type": "code",
      "source": [
        "#Checking Null values present in df_1\n",
        "\n",
        "df_1.isnull().sum()"
      ],
      "metadata": {
        "id": "sPd1NyLFcj6f",
        "colab": {
          "base_uri": "https://localhost:8080/"
        },
        "outputId": "442889df-a8ae-4e2c-d809-a4c5f3c46633"
      },
      "execution_count": 175,
      "outputs": [
        {
          "output_type": "execute_result",
          "data": {
            "text/plain": [
              "ride_id            0\n",
              "seat_number        0\n",
              "payment_method     0\n",
              "payment_receipt    0\n",
              "travel_date        0\n",
              "travel_time        0\n",
              "travel_from        0\n",
              "travel_to          0\n",
              "car_type           0\n",
              "max_capacity       0\n",
              "dtype: int64"
            ]
          },
          "metadata": {},
          "execution_count": 175
        }
      ]
    },
    {
      "cell_type": "markdown",
      "source": [
        "**Data Visualization**"
      ],
      "metadata": {
        "id": "hKKdKw7Vc3c7"
      }
    },
    {
      "cell_type": "code",
      "source": [
        "plt.rcParams[\"figure.figsize\"] = [10, 5]"
      ],
      "metadata": {
        "id": "duT5oGZNfjgK"
      },
      "execution_count": 176,
      "outputs": []
    },
    {
      "cell_type": "code",
      "source": [
        "#Getting Insights of Data by plottig Countplot\n",
        "\n",
        "plots_count_columns=['car_type','max_capacity','payment_method']\n",
        "for plots in plots_count_columns:\n",
        "  sns.countplot(df_1[plots])\n",
        "  plt.show()\n"
      ],
      "metadata": {
        "id": "pgtzsTRMcqVX",
        "colab": {
          "base_uri": "https://localhost:8080/",
          "height": 970
        },
        "outputId": "1231f47c-1fc2-434b-b80a-3ec328cc70d9"
      },
      "execution_count": 177,
      "outputs": [
        {
          "output_type": "display_data",
          "data": {
            "text/plain": [
              "<Figure size 720x360 with 1 Axes>"
            ],
            "image/png": "[encoded data removed]"
          },
          "metadata": {
            "needs_background": "light"
          }
        },
        {
          "output_type": "display_data",
          "data": {
            "text/plain": [
              "<Figure size 720x360 with 1 Axes>"
            ],
            "image/png": "[encoded data removed]"
          },
          "metadata": {
            "needs_background": "light"
          }
        },
        {
          "output_type": "display_data",
          "data": {
            "text/plain": [
              "<Figure size 720x360 with 1 Axes>"
            ],
            "image/png": "[encoded data removed]"
          },
          "metadata": {
            "needs_background": "light"
          }
        }
      ]
    },
    {
      "cell_type": "markdown",
      "source": [
        "Inference:\n",
        "\n",
        "1.   There are two type of cars . The most used is Bus with Maximun capacity of 49.\n",
        "2.   There are two modes of payments Mpesa and Cash. The most used is Mpesa."
      ],
      "metadata": {
        "id": "JrpCSugIR0cS"
      }
    },
    {
      "cell_type": "code",
      "source": [
        "#Plotting Distplot and Boxplot graphs\n",
        "\n",
        "fig, axes = plt.subplots(1,2,figsize=(10,5))\n",
        "sns.distplot(df_1['ride_id'], ax=axes[0])\n",
        "sns.boxplot(df_1['ride_id'], ax=axes[1])"
      ],
      "metadata": {
        "id": "bgm3k6qjjBHt",
        "colab": {
          "base_uri": "https://localhost:8080/",
          "height": 352
        },
        "outputId": "c97a6256-c847-42d7-c6b2-5a24fc22aeb3"
      },
      "execution_count": 178,
      "outputs": [
        {
          "output_type": "execute_result",
          "data": {
            "text/plain": [
              "<matplotlib.axes._subplots.AxesSubplot at 0x7f6443092c90>"
            ]
          },
          "metadata": {},
          "execution_count": 178
        },
        {
          "output_type": "display_data",
          "data": {
            "text/plain": [
              "<Figure size 720x360 with 2 Axes>"
            ],
            "image/png": "[encoded data removed]"
          },
          "metadata": {
            "needs_background": "light"
          }
        }
      ]
    },
    {
      "cell_type": "code",
      "source": [
        "fig, axes = plt.subplots(1,2,figsize=(10,5))\n",
        "sns.distplot(df_1['max_capacity'], ax=axes[0])\n",
        "sns.boxplot(df_1['max_capacity'], ax=axes[1])"
      ],
      "metadata": {
        "id": "I1AWGdFtjuBF",
        "colab": {
          "base_uri": "https://localhost:8080/",
          "height": 352
        },
        "outputId": "5f7d06d9-bad5-449a-8bdf-5d3e44670d6c"
      },
      "execution_count": 179,
      "outputs": [
        {
          "output_type": "execute_result",
          "data": {
            "text/plain": [
              "<matplotlib.axes._subplots.AxesSubplot at 0x7f6442f6d8d0>"
            ]
          },
          "metadata": {},
          "execution_count": 179
        },
        {
          "output_type": "display_data",
          "data": {
            "text/plain": [
              "<Figure size 720x360 with 2 Axes>"
            ],
            "image/png": "[encoded data removed]"
          },
          "metadata": {
            "needs_background": "light"
          }
        }
      ]
    },
    {
      "cell_type": "markdown",
      "source": [
        "Inference: Maximum Capacity of Bus is 49"
      ],
      "metadata": {
        "id": "Dg4thzCwSN41"
      }
    },
    {
      "cell_type": "code",
      "source": [
        "plt.rcParams[\"figure.figsize\"] = [15, 5]"
      ],
      "metadata": {
        "id": "NalhhSkEdZKc"
      },
      "execution_count": 180,
      "outputs": []
    },
    {
      "cell_type": "code",
      "source": [
        "#Plotting Countplot to count max values\n",
        "\n",
        "sns.countplot(df_1['travel_from'])\n",
        "plt.show()"
      ],
      "metadata": {
        "id": "uZu9JICbdjEo",
        "colab": {
          "base_uri": "https://localhost:8080/",
          "height": 335
        },
        "outputId": "e1c53acd-f128-4865-8af2-d41ef535a464"
      },
      "execution_count": 181,
      "outputs": [
        {
          "output_type": "display_data",
          "data": {
            "text/plain": [
              "<Figure size 1080x360 with 1 Axes>"
            ],
            "image/png": "[encoded data removed]"
          },
          "metadata": {
            "needs_background": "light"
          }
        }
      ]
    },
    {
      "cell_type": "markdown",
      "source": [
        "Inference: Maximum People travelling from Kissi"
      ],
      "metadata": {
        "id": "-jl9so8ySU1i"
      }
    },
    {
      "cell_type": "code",
      "source": [
        "#Grouping the ride_id and seat_numbers to get Targetvariable\n",
        "\n",
        "target=df_1.groupby(['ride_id']).seat_number.count().rename('Tickets').reset_index()\n",
        "target=target.drop_duplicates('ride_id')"
      ],
      "metadata": {
        "id": "COT54ACq40Uf"
      },
      "execution_count": 182,
      "outputs": []
    },
    {
      "cell_type": "code",
      "source": [
        "#Mergging data using leftjoin\n",
        "\n",
        "df=df_1.merge(target,how='left',on='ride_id')"
      ],
      "metadata": {
        "id": "qnfUlPfsgRfv"
      },
      "execution_count": 183,
      "outputs": []
    },
    {
      "cell_type": "code",
      "source": [
        "#Plotting Bar graph \n",
        "\n",
        "plt.figure(figsize=(15,8))\n",
        "sp=sns.barplot(x='travel_from',y='Tickets',data=df)"
      ],
      "metadata": {
        "id": "ChXmZV8We3H-",
        "colab": {
          "base_uri": "https://localhost:8080/",
          "height": 498
        },
        "outputId": "9eee8c98-07b3-4e0b-c0cd-4672ed3f3fec"
      },
      "execution_count": 184,
      "outputs": [
        {
          "output_type": "display_data",
          "data": {
            "text/plain": [
              "<Figure size 1080x576 with 1 Axes>"
            ],
            "image/png": "[encoded data removed]"
          },
          "metadata": {
            "needs_background": "light"
          }
        }
      ]
    },
    {
      "cell_type": "markdown",
      "source": [
        "Inference: Maximum Tickets were from Sirare"
      ],
      "metadata": {
        "id": "ihgzQsX9SrDl"
      }
    },
    {
      "cell_type": "code",
      "source": [
        "#Dropping the columns that not required\n",
        "\n",
        "df = df.drop(['seat_number','payment_method','payment_receipt'], axis=1)"
      ],
      "metadata": {
        "id": "f44tIoFk5-Fd"
      },
      "execution_count": 185,
      "outputs": []
    },
    {
      "cell_type": "code",
      "source": [
        "df.columns"
      ],
      "metadata": {
        "id": "yZTadb2k6KGd",
        "colab": {
          "base_uri": "https://localhost:8080/"
        },
        "outputId": "80e64274-9537-4c19-8bc6-8366291bc4b6"
      },
      "execution_count": 186,
      "outputs": [
        {
          "output_type": "execute_result",
          "data": {
            "text/plain": [
              "Index(['ride_id', 'travel_date', 'travel_time', 'travel_from', 'travel_to',\n",
              "       'car_type', 'max_capacity', 'Tickets'],\n",
              "      dtype='object')"
            ]
          },
          "metadata": {},
          "execution_count": 186
        }
      ]
    },
    {
      "cell_type": "code",
      "source": [
        "df.drop(['travel_to'],axis=1,inplace=True)"
      ],
      "metadata": {
        "id": "dXjGDATp6Z9I"
      },
      "execution_count": 187,
      "outputs": []
    },
    {
      "cell_type": "code",
      "source": [
        "#Creating new column 'date' in dataframe\n",
        "\n",
        "df['date']=df['travel_date']+\" \"+df['travel_time']\n",
        "def  time_feature(data):\n",
        "\n",
        "  ''' This function takes dataframe as an argument and extracts the different features\n",
        "       from the data variable ofthe dataset and finally returns the updated dataset'''\n",
        "  df['date']=pd.to_datetime(df['date'])\n",
        "  df['day_of_week']=df['date'].dt.dayofweek\n",
        "  df['day_of_year']=df['date'].dt.dayofyear\n",
        "  df['day_of_month']=df['date'].dt.day\n",
        "  df[\"year_woy\"]=df[\"date\"].dt.year.astype(str)+df[\"date\"].dt.weekofyear.astype(str)\n",
        "  df[\"hour\"]=df[\"date\"].dt.hour\n",
        "  df[\"minute\"]=df[\"date\"].dt.minute\n",
        "  df[\"is_weekend\"]=df[\"day_of_week\"].apply( lambda x : 1 if x  in [5,6] else 0 )\n",
        "  df[\"year\"]=df[\"date\"].dt.year\n",
        "  df[\"quarter\"]=df[\"date\"].dt.quarter\n",
        "  df[\"month\"]=df[\"date\"].dt.month\n",
        "  return data"
      ],
      "metadata": {
        "id": "VNSvgxXH7lXm"
      },
      "execution_count": 188,
      "outputs": []
    },
    {
      "cell_type": "code",
      "source": [
        "df_new = time_feature(df)"
      ],
      "metadata": {
        "id": "_75EbgDa7yOf"
      },
      "execution_count": 189,
      "outputs": []
    },
    {
      "cell_type": "code",
      "source": [
        "#Checking information of new data frame df_new\n",
        "\n",
        "df_new.info()"
      ],
      "metadata": {
        "id": "vtEYwV2E78iI",
        "colab": {
          "base_uri": "https://localhost:8080/"
        },
        "outputId": "2e1abacc-764c-42ca-c89f-44546fab3df7"
      },
      "execution_count": 190,
      "outputs": [
        {
          "output_type": "stream",
          "name": "stdout",
          "text": [
            "<class 'pandas.core.frame.DataFrame'>\n",
            "Int64Index: 51645 entries, 0 to 51644\n",
            "Data columns (total 18 columns):\n",
            " #   Column        Non-Null Count  Dtype         \n",
            "---  ------        --------------  -----         \n",
            " 0   ride_id       51645 non-null  int64         \n",
            " 1   travel_date   51645 non-null  object        \n",
            " 2   travel_time   51645 non-null  object        \n",
            " 3   travel_from   51645 non-null  object        \n",
            " 4   car_type      51645 non-null  object        \n",
            " 5   max_capacity  51645 non-null  int64         \n",
            " 6   Tickets       51645 non-null  int64         \n",
            " 7   date          51645 non-null  datetime64[ns]\n",
            " 8   day_of_week   51645 non-null  int64         \n",
            " 9   day_of_year   51645 non-null  int64         \n",
            " 10  day_of_month  51645 non-null  int64         \n",
            " 11  year_woy      51645 non-null  object        \n",
            " 12  hour          51645 non-null  int64         \n",
            " 13  minute        51645 non-null  int64         \n",
            " 14  is_weekend    51645 non-null  int64         \n",
            " 15  year          51645 non-null  int64         \n",
            " 16  quarter       51645 non-null  int64         \n",
            " 17  month         51645 non-null  int64         \n",
            "dtypes: datetime64[ns](1), int64(12), object(5)\n",
            "memory usage: 9.5+ MB\n"
          ]
        }
      ]
    },
    {
      "cell_type": "code",
      "source": [
        "plt.figure(figsize=(15,8))\n",
        "sns.barplot(x='day_of_month',y='Tickets',data=df_new)"
      ],
      "metadata": {
        "id": "Hx963h56g7_e",
        "colab": {
          "base_uri": "https://localhost:8080/",
          "height": 515
        },
        "outputId": "401c1c47-36ec-4bf2-f98f-1531536c75a9"
      },
      "execution_count": 191,
      "outputs": [
        {
          "output_type": "execute_result",
          "data": {
            "text/plain": [
              "<matplotlib.axes._subplots.AxesSubplot at 0x7f644d817690>"
            ]
          },
          "metadata": {},
          "execution_count": 191
        },
        {
          "output_type": "display_data",
          "data": {
            "text/plain": [
              "<Figure size 1080x576 with 1 Axes>"
            ],
            "image/png": "[encoded data removed]"
          },
          "metadata": {
            "needs_background": "light"
          }
        }
      ]
    },
    {
      "cell_type": "markdown",
      "source": [
        "Inference: There is gap between 5 to 11 ,which we can assume as Holidays"
      ],
      "metadata": {
        "id": "nfnK4Ea2S0oN"
      }
    },
    {
      "cell_type": "code",
      "source": [
        "plt.figure(figsize=(15, 8))\n",
        "\n",
        "sns.scatterplot(x='hour', y=\"Tickets\", data=df_new)"
      ],
      "metadata": {
        "id": "BfwO1Dqnhgzq",
        "colab": {
          "base_uri": "https://localhost:8080/",
          "height": 514
        },
        "outputId": "5ccce350-853d-44f2-e92a-35b781784fa0"
      },
      "execution_count": 192,
      "outputs": [
        {
          "output_type": "execute_result",
          "data": {
            "text/plain": [
              "<matplotlib.axes._subplots.AxesSubplot at 0x7f64427a1510>"
            ]
          },
          "metadata": {},
          "execution_count": 192
        },
        {
          "output_type": "display_data",
          "data": {
            "text/plain": [
              "<Figure size 1080x576 with 1 Axes>"
            ],
            "image/png": "[encoded data removed]"
          },
          "metadata": {
            "needs_background": "light"
          }
        }
      ]
    },
    {
      "cell_type": "markdown",
      "source": [
        "Inference:\n",
        "* We can see that most of the ticktes were sold at  7 AM and 8 PM. And that seems true because in the morning most of the people go to the work and office.\n",
        "\n",
        "* From the above we can say that there is not ride between 12pm to 5.30Pm "
      ],
      "metadata": {
        "id": "DITGTsEfTfsT"
      }
    },
    {
      "cell_type": "code",
      "source": [
        "#Replacing Categorical Values to Numerical Values\n",
        "\n",
        "df_new['car_type'].replace(['Bus', 'shuttle'],[0, 1], inplace=True)"
      ],
      "metadata": {
        "id": "mWz8au668YNf"
      },
      "execution_count": 193,
      "outputs": []
    },
    {
      "cell_type": "code",
      "source": [
        "df_new['travel_from'].unique()"
      ],
      "metadata": {
        "id": "7HKR-YIDAmhu",
        "colab": {
          "base_uri": "https://localhost:8080/"
        },
        "outputId": "19c5be47-8df4-48e2-acbe-f2abd3d7919d"
      },
      "execution_count": 194,
      "outputs": [
        {
          "output_type": "execute_result",
          "data": {
            "text/plain": [
              "array(['Migori', 'Keroka', 'Homa Bay', 'Kisii', 'Keumbu', 'Rongo',\n",
              "       'Kijauri', 'Oyugis', 'Awendo', 'Sirare', 'Nyachenge', 'Kehancha',\n",
              "       'Kendu Bay', 'Sori', 'Rodi', 'Mbita', 'Ndhiwa'], dtype=object)"
            ]
          },
          "metadata": {},
          "execution_count": 194
        }
      ]
    },
    {
      "cell_type": "code",
      "source": [
        "#Replacing Categorical values to numerical values\n",
        "\n",
        "df_new[\"travel_from\"].replace(['Migori', 'Keroka', 'Homa Bay', 'Kisii', 'Keumbu', 'Rongo',\n",
        "       'Kijauri', 'Oyugis', 'Awendo', 'Sirare', 'Nyachenge', 'Kehancha',\n",
        "       'Kendu Bay', 'Sori', 'Rodi', 'Mbita', 'Ndhiwa'],[0,1,2,3,4,5,6,7,8,9,10,11,12,13,14,15,16],inplace=True)"
      ],
      "metadata": {
        "id": "xk9jfc9lBF13"
      },
      "execution_count": 195,
      "outputs": []
    },
    {
      "cell_type": "code",
      "source": [
        "#Create variables columns not required and dropping few columns\n",
        "\n",
        "notreq = [\"travel_date\",\"travel_time\",\"car_type\",\"year_woy\"]\n",
        "\n",
        "df_new.drop(columns = \"travel_date\",inplace= True)\n",
        "df_new.drop(columns = \"travel_time\",inplace= True)\n",
        "df_new.drop(columns = \"year_woy\",inplace= True)"
      ],
      "metadata": {
        "id": "Rw1r2rVQCEUX"
      },
      "execution_count": 196,
      "outputs": []
    },
    {
      "cell_type": "code",
      "source": [
        "df_new.info()"
      ],
      "metadata": {
        "id": "Ftz_39t89bgE",
        "colab": {
          "base_uri": "https://localhost:8080/"
        },
        "outputId": "a135e0c8-ca71-49c2-d638-3494e1f8b472"
      },
      "execution_count": 197,
      "outputs": [
        {
          "output_type": "stream",
          "name": "stdout",
          "text": [
            "<class 'pandas.core.frame.DataFrame'>\n",
            "Int64Index: 51645 entries, 0 to 51644\n",
            "Data columns (total 15 columns):\n",
            " #   Column        Non-Null Count  Dtype         \n",
            "---  ------        --------------  -----         \n",
            " 0   ride_id       51645 non-null  int64         \n",
            " 1   travel_from   51645 non-null  int64         \n",
            " 2   car_type      51645 non-null  int64         \n",
            " 3   max_capacity  51645 non-null  int64         \n",
            " 4   Tickets       51645 non-null  int64         \n",
            " 5   date          51645 non-null  datetime64[ns]\n",
            " 6   day_of_week   51645 non-null  int64         \n",
            " 7   day_of_year   51645 non-null  int64         \n",
            " 8   day_of_month  51645 non-null  int64         \n",
            " 9   hour          51645 non-null  int64         \n",
            " 10  minute        51645 non-null  int64         \n",
            " 11  is_weekend    51645 non-null  int64         \n",
            " 12  year          51645 non-null  int64         \n",
            " 13  quarter       51645 non-null  int64         \n",
            " 14  month         51645 non-null  int64         \n",
            "dtypes: datetime64[ns](1), int64(14)\n",
            "memory usage: 8.3 MB\n"
          ]
        }
      ]
    },
    {
      "cell_type": "code",
      "source": [
        "#Using heatmap for findding correlation between variables\n",
        "\n",
        "plt.figure(figsize=(15,10))\n",
        "sns.heatmap(df_new.corr())"
      ],
      "metadata": {
        "id": "vApnsMFQim33",
        "colab": {
          "base_uri": "https://localhost:8080/",
          "height": 673
        },
        "outputId": "d5fba80e-0465-4dc5-b79a-4ca77e80defd"
      },
      "execution_count": 198,
      "outputs": [
        {
          "output_type": "execute_result",
          "data": {
            "text/plain": [
              "<matplotlib.axes._subplots.AxesSubplot at 0x7f6442d61cd0>"
            ]
          },
          "metadata": {},
          "execution_count": 198
        },
        {
          "output_type": "display_data",
          "data": {
            "text/plain": [
              "<Figure size 1080x720 with 2 Axes>"
            ],
            "image/png": "[encoded data removed]"
          },
          "metadata": {
            "needs_background": "light"
          }
        }
      ]
    },
    {
      "cell_type": "markdown",
      "source": [
        "Inference:\n",
        "we can see the correlation between the data columns\n",
        "\n",
        "\n",
        "*   Positive Correlation from 0 to 1\n",
        "*   Negative Correlation from 0 to -1\n",
        "\n",
        "\n"
      ],
      "metadata": {
        "id": "lyEAe55MUJQA"
      }
    },
    {
      "cell_type": "code",
      "source": [
        "df_new.drop(columns = \"date\",axis=1,inplace= True)"
      ],
      "metadata": {
        "id": "sVmjY-NgANV7"
      },
      "execution_count": 199,
      "outputs": []
    },
    {
      "cell_type": "markdown",
      "source": [
        "**Importing Libraries**"
      ],
      "metadata": {
        "id": "NL3rmMr2U_bF"
      }
    },
    {
      "cell_type": "code",
      "source": [
        "from sklearn import metrics\n",
        "import math\n",
        "from sklearn.model_selection import train_test_split\n",
        "from sklearn.ensemble import GradientBoostingRegressor\n",
        "from sklearn.metrics import mean_absolute_error, mean_squared_error,r2_score\n",
        "import math\n",
        "from xgboost import XGBRegressor\n",
        "from sklearn.model_selection import GridSearchCV\n",
        "from sklearn.model_selection import RandomizedSearchCV\n",
        "from sklearn.linear_model import LinearRegression\n",
        "from sklearn.metrics import r2_score\n"
      ],
      "metadata": {
        "id": "w3_Uz-sx9p1a"
      },
      "execution_count": 200,
      "outputs": []
    },
    {
      "cell_type": "markdown",
      "source": [
        "**Linear Regression**"
      ],
      "metadata": {
        "id": "A2mpm7vIkP_Z"
      }
    },
    {
      "cell_type": "code",
      "source": [
        "#Getting X and Y variable\n",
        "\n",
        "dependent_variable = 'Tickets'\n",
        "independent_variables = list(set(df_new.columns.tolist()) - {dependent_variable})"
      ],
      "metadata": {
        "id": "XdJxjz2b-ObK"
      },
      "execution_count": 201,
      "outputs": []
    },
    {
      "cell_type": "code",
      "source": [
        "X = df_new[independent_variables].values\n",
        "y = df_new[dependent_variable].values\n",
        "X_train, X_test, y_train, y_test = train_test_split(X,y,test_size=0.20, random_state=42)"
      ],
      "metadata": {
        "id": "Uk1qoo8m_pol"
      },
      "execution_count": 202,
      "outputs": []
    },
    {
      "cell_type": "code",
      "source": [
        "#Imported Library  MinMAxScaler\n",
        "\n",
        "from sklearn.preprocessing import MinMaxScaler\n"
      ],
      "metadata": {
        "id": "0YryAYNtEVqP"
      },
      "execution_count": 203,
      "outputs": []
    },
    {
      "cell_type": "code",
      "source": [
        "scaler = MinMaxScaler()\n",
        "X_train = scaler.fit_transform(X_train)\n",
        "X_test = scaler.transform(X_test)"
      ],
      "metadata": {
        "id": "7L6o6JbdEPQW"
      },
      "execution_count": 204,
      "outputs": []
    },
    {
      "cell_type": "code",
      "source": [
        "#Implementing Linear Regressor\n",
        "\n",
        "regressor = LinearRegression()\n",
        "regressor.fit(X_train, y_train)\n",
        "regressor.intercept_\n",
        "regressor.coef_\n",
        "y_pred_train = regressor.predict(X_train)\n",
        "y_pred = regressor.predict(X_test)\n",
        "\n",
        "print('Linear_Regressor Training Score : ',regressor.score(X_train, y_train))\n",
        "print('Linear_Regressor Test Score : ',regressor.score(X_test, y_test))"
      ],
      "metadata": {
        "id": "axOtFdef_fNe",
        "colab": {
          "base_uri": "https://localhost:8080/"
        },
        "outputId": "c3cc3437-da05-4ddf-ca34-95da2a7fbec1"
      },
      "execution_count": 242,
      "outputs": [
        {
          "output_type": "stream",
          "name": "stdout",
          "text": [
            "Linear_Regressor Training Score :  0.37747985949762675\n",
            "Linear_Regressor Test Score :  0.3802697609037806\n"
          ]
        }
      ]
    },
    {
      "cell_type": "code",
      "source": [
        "#Intercept Values\n",
        "\n",
        "print('Intercept Value : ',regressor.intercept_)"
      ],
      "metadata": {
        "id": "xe755UIikqWE",
        "colab": {
          "base_uri": "https://localhost:8080/"
        },
        "outputId": "0e2c3ba4-b082-401e-e037-543623aa4af6"
      },
      "execution_count": 237,
      "outputs": [
        {
          "output_type": "stream",
          "name": "stdout",
          "text": [
            "Intercept Value :  -1435.411400181998\n"
          ]
        }
      ]
    },
    {
      "cell_type": "code",
      "source": [
        "#Coefficent Values\n",
        "\n",
        "regressor.coef_"
      ],
      "metadata": {
        "id": "HkP_5Ev2ksZX",
        "colab": {
          "base_uri": "https://localhost:8080/"
        },
        "outputId": "002b007b-b7cb-4ba7-d39b-902441d2d792"
      },
      "execution_count": 238,
      "outputs": [
        {
          "output_type": "execute_result",
          "data": {
            "text/plain": [
              "array([ 3.24359743e-01,  2.52118374e-04, -1.99154655e-01, -8.84069694e-01,\n",
              "       -9.43473913e-03, -9.57131001e-02,  5.69772658e-02, -8.49028008e-01,\n",
              "        7.08562228e-01,  5.72161341e-03,  3.29442970e+00,  3.58520087e-01,\n",
              "        1.07084087e+00])"
            ]
          },
          "metadata": {},
          "execution_count": 238
        }
      ]
    },
    {
      "cell_type": "code",
      "source": [
        "#Mean Square Error \n",
        "\n",
        "print('MSE Value : ',mean_squared_error(y_test, y_pred))\n",
        "print('MAE Value : ',mean_absolute_error(y_test, y_pred))"
      ],
      "metadata": {
        "id": "tfXvVz5x_-5s",
        "colab": {
          "base_uri": "https://localhost:8080/"
        },
        "outputId": "a392ae0b-dab1-44f0-f14c-c98e6b33b87c"
      },
      "execution_count": 239,
      "outputs": [
        {
          "output_type": "stream",
          "name": "stdout",
          "text": [
            "MSE Value :  94.21914221575292\n",
            "MAE Value :  7.011171907948572\n"
          ]
        }
      ]
    },
    {
      "cell_type": "code",
      "source": [
        "#R2 Score values for train and test split\n",
        "\n",
        "print('R2 Score for Training : ',r2_score(y_train, y_pred_train))\n",
        "print('R2 Score for Test : ',r2_score(y_test, y_pred))\n",
        "print(\"Adjusted R2 Score : \",1-(1-r2_score(y_test, y_pred))*((X_test.shape[0]-1)/(X_test.shape[0]-X_test.shape[1]-1)))"
      ],
      "metadata": {
        "id": "HPyoCBrDDVWf",
        "colab": {
          "base_uri": "https://localhost:8080/"
        },
        "outputId": "bc4f91ca-6ba8-40fe-f02d-d04b14e957c3"
      },
      "execution_count": 209,
      "outputs": [
        {
          "output_type": "stream",
          "name": "stdout",
          "text": [
            "R2 Score for Training :  0.37717403378712355\n",
            "R2 Score for Test :  0.3835867944194379\n",
            "Adjusted R2 Score :  0.3828099285277706\n"
          ]
        }
      ]
    },
    {
      "cell_type": "markdown",
      "source": [
        "Inference: R2 for train and test split prediction is 0.38\n",
        "we conclude that a model performance is low\n",
        "Hence we go for Regularization and Hypertunning "
      ],
      "metadata": {
        "id": "R6DChE4rVaWW"
      }
    },
    {
      "cell_type": "markdown",
      "source": [
        "**Implementing Lasso Regressor** "
      ],
      "metadata": {
        "id": "T9blqpXomHHh"
      }
    },
    {
      "cell_type": "code",
      "source": [
        "#Importing and Implementing Lasso Regressor for Minimizing Error for quantitative response variable\n",
        "\n",
        "from sklearn.linear_model import Lasso"
      ],
      "metadata": {
        "id": "odshQLl-lXk9"
      },
      "execution_count": 210,
      "outputs": []
    },
    {
      "cell_type": "code",
      "source": [
        "#X and Y values \n",
        "\n",
        "X = df_new[independent_variables].values\n",
        "y = df_new[dependent_variable].values\n",
        "X_train1, X_test1, y_train1, y_test1 = train_test_split(X,y,test_size=0.20, random_state=42)\n",
        "\n",
        "alphas = [0.01,0.025,0.5,0.75,1]\n",
        "for alpha in alphas:\n",
        "  lasso  = Lasso(alpha=alpha , max_iter= 3000)\n",
        "  lasso.fit(X_train1, y_train1)\n",
        "  print('\\nAt Alpha : ',alpha)\n",
        "  print('Lasso_Regressor Training Score : ',lasso.score(X_train1, y_train1))\n",
        "  print('Lasso_Regressor Test Score : ',lasso.score(X_test1, y_test1))"
      ],
      "metadata": {
        "id": "6YTf01qMDVFd",
        "colab": {
          "base_uri": "https://localhost:8080/"
        },
        "outputId": "34e73eaa-1324-47e5-d6e8-c9c39b6518ab"
      },
      "execution_count": 240,
      "outputs": [
        {
          "output_type": "stream",
          "name": "stdout",
          "text": [
            "\n",
            "At Alpha :  0.01\n",
            "Lasso_Regressor Training Score :  0.377132613823034\n",
            "Lasso_Regressor Test Score :  0.3834103023291118\n",
            "\n",
            "At Alpha :  0.025\n",
            "Lasso_Regressor Training Score :  0.3770117982657435\n",
            "Lasso_Regressor Test Score :  0.38309596922907996\n",
            "\n",
            "At Alpha :  0.5\n",
            "Lasso_Regressor Training Score :  0.37551249177433066\n",
            "Lasso_Regressor Test Score :  0.38155507295869195\n",
            "\n",
            "At Alpha :  0.75\n",
            "Lasso_Regressor Training Score :  0.3748863498164856\n",
            "Lasso_Regressor Test Score :  0.3808934277584638\n",
            "\n",
            "At Alpha :  1\n",
            "Lasso_Regressor Training Score :  0.3740134632290899\n",
            "Lasso_Regressor Test Score :  0.37998862553797874\n"
          ]
        }
      ]
    },
    {
      "cell_type": "code",
      "source": [
        "#Best Alpha and Max_iter Values\n",
        "\n",
        "lasso  = Lasso(alpha=0.01 , max_iter= 3000)\n",
        "lasso.fit(X_train, y_train)"
      ],
      "metadata": {
        "id": "wyejFLfpltuH",
        "colab": {
          "base_uri": "https://localhost:8080/"
        },
        "outputId": "7fd7071a-acbe-4feb-a677-0bfa3d32e027"
      },
      "execution_count": 212,
      "outputs": [
        {
          "output_type": "execute_result",
          "data": {
            "text/plain": [
              "Lasso(alpha=0.01, max_iter=3000)"
            ]
          },
          "metadata": {},
          "execution_count": 212
        }
      ]
    },
    {
      "cell_type": "code",
      "source": [
        "#Y_test predicted values of MSE,RMSE,MAE\n",
        "\n",
        "y_test_pred = lasso.predict(X_test)\n",
        "\n",
        "print('MSE Value : {}'.format(mean_squared_error(y_test, y_test_pred)))\n",
        "print('RMSE Value : {}'.format(math.sqrt(mean_squared_error(y_test, y_test_pred))))\n",
        "print('MAE Value : {}'.format(mean_absolute_error(y_test, y_test_pred)))"
      ],
      "metadata": {
        "id": "dvo-duDxlxGL",
        "colab": {
          "base_uri": "https://localhost:8080/"
        },
        "outputId": "2c40a15c-2946-4281-a156-c1d30321fba6"
      },
      "execution_count": 213,
      "outputs": [
        {
          "output_type": "stream",
          "name": "stdout",
          "text": [
            "MSE Value : 94.23168415853881\n",
            "RMSE Value : 9.70730055981264\n",
            "MAE Value : 7.006064703998821\n"
          ]
        }
      ]
    },
    {
      "cell_type": "code",
      "source": [
        "#R2 and Adjusted R2 Scores\n",
        "\n",
        "r2 = r2_score(y_test, y_test_pred)\n",
        "print(\"R2 Score : \",r2)\n",
        "print(\"Adjusted R2 Score : \",1-(1-r2_score(y_test, y_test_pred))*((X_test.shape[0]-1)/(X_test.shape[0]-X_test.shape[1]-1)))"
      ],
      "metadata": {
        "id": "kmh9cySgl5Lj",
        "colab": {
          "base_uri": "https://localhost:8080/"
        },
        "outputId": "03d57d9d-7f0f-4726-b9f1-866fef609c1e"
      },
      "execution_count": 214,
      "outputs": [
        {
          "output_type": "stream",
          "name": "stdout",
          "text": [
            "R2 Score :  0.3834103023291118\n",
            "Adjusted R2 Score :  0.382633214004369\n"
          ]
        }
      ]
    },
    {
      "cell_type": "markdown",
      "source": [
        "Inference: R2 for train and test split prediction is 0.38\n",
        "we conclude that a model performance is low.\n"
      ],
      "metadata": {
        "id": "ZMXL_r6FWUUH"
      }
    },
    {
      "cell_type": "markdown",
      "source": [
        "**Implementing Ridge Regressor**"
      ],
      "metadata": {
        "id": "DTnsbCmemVlK"
      }
    },
    {
      "cell_type": "code",
      "source": [
        "#Ridge regressor for the coefficients of multiple-regression models in scenarios where the independent variables are highly correlated"
      ],
      "metadata": {
        "id": "F8iDNIKsWrxk"
      },
      "execution_count": 215,
      "outputs": []
    },
    {
      "cell_type": "code",
      "source": [
        "from sklearn.linear_model import Ridge\n",
        "from sklearn.model_selection import GridSearchCV\n",
        "import sklearn.metrics as metrics"
      ],
      "metadata": {
        "id": "hvRzgtELmVEL"
      },
      "execution_count": 216,
      "outputs": []
    },
    {
      "cell_type": "code",
      "source": [
        "#Hyperparameter tunning\n",
        "\n",
        "X = df_new[independent_variables].values\n",
        "y = df_new[dependent_variable].values\n",
        "X_train, X_test, y_train, y_test = train_test_split(X,y,test_size=0.33, random_state=42)\n",
        "ridge = Ridge()\n",
        "parameters = {'alpha': [1e-15,1e-10,1e-8,1e-5,1e-4,1e-3,1e-2,1,5,10,20,30,40,45,50,55,60,100]}\n",
        "ridge_regressor = GridSearchCV(ridge, parameters, scoring='neg_mean_squared_error', cv=3)\n",
        "ridge_regressor.fit(X_train,y_train)"
      ],
      "metadata": {
        "id": "9E0rQOgympRo",
        "colab": {
          "base_uri": "https://localhost:8080/"
        },
        "outputId": "797508f1-a792-4aa7-ee42-520173f0c9bf"
      },
      "execution_count": 232,
      "outputs": [
        {
          "output_type": "execute_result",
          "data": {
            "text/plain": [
              "GridSearchCV(cv=3, estimator=Ridge(),\n",
              "             param_grid={'alpha': [1e-15, 1e-10, 1e-08, 1e-05, 0.0001, 0.001,\n",
              "                                   0.01, 1, 5, 10, 20, 30, 40, 45, 50, 55, 60,\n",
              "                                   100]},\n",
              "             scoring='neg_mean_squared_error')"
            ]
          },
          "metadata": {},
          "execution_count": 232
        }
      ]
    },
    {
      "cell_type": "code",
      "source": [
        "#Best fit Alpha Values\n",
        "\n",
        "print(\"The best fit alpha value is found out to be :\" ,ridge_regressor.best_params_)\n",
        "print(\"\\nUsing \",ridge_regressor.best_params_,\", the Mean Squared Error Value : \", ridge_regressor.best_score_)"
      ],
      "metadata": {
        "id": "vpADP0xYm_XH",
        "colab": {
          "base_uri": "https://localhost:8080/"
        },
        "outputId": "5e733fa6-862d-4d0d-9dc2-0fb1f7bbf20f"
      },
      "execution_count": 233,
      "outputs": [
        {
          "output_type": "stream",
          "name": "stdout",
          "text": [
            "The best fit alpha value is found out to be : {'alpha': 5}\n",
            "\n",
            "Using  {'alpha': 5} , the Mean Squared Error Value :  -95.75697187145114\n"
          ]
        }
      ]
    },
    {
      "cell_type": "code",
      "source": [
        "#R2 and Adjusted R2 Scores for Rigde Regressor\n",
        "\n",
        "y_pred_ridge = ridge_regressor.predict(X_test)\n",
        "print('Ridge_Regressor Training score : ', ridge_regressor.score(X_train,y_train))\n",
        "print('RidgeRegressor Test score : ',ridge_regressor.score(X_test,y_test))\n",
        "\n",
        "r2 = r2_score(y_test, y_pred_ridge)\n",
        "print(\"\\nR2 Score :\" ,r2)\n",
        "print(\"Adjusted R2 Score : \",1-(1-r2_score(y_test, y_pred_ridge))*((X_test.shape[0]-1)/(X_test.shape[0]-X_test.shape[1]-1)))\n",
        "print(\"MAE Value : \",mean_absolute_error(y_test, y_pred_ridge))\n",
        "print(\"MSE Value : \",mean_squared_error(y_test, y_pred_ridge))"
      ],
      "metadata": {
        "id": "BRpc4BhQnGfh",
        "colab": {
          "base_uri": "https://localhost:8080/"
        },
        "outputId": "df7b8585-114d-4179-f788-5b7f3c8aca01"
      },
      "execution_count": 234,
      "outputs": [
        {
          "output_type": "stream",
          "name": "stdout",
          "text": [
            "Ridge_Regressor Training score :  -95.67797545785278\n",
            "RidgeRegressor Test score :  -94.21755588392256\n",
            "\n",
            "R2 Score : 0.38028019506589894\n",
            "Adjusted R2 Score :  0.37980709873234186\n",
            "MAE Value :  7.011123339299503\n",
            "MSE Value :  94.21755588392256\n"
          ]
        }
      ]
    },
    {
      "cell_type": "markdown",
      "source": [
        "Inference: R2 for train and test split prediction is around 0.38\n",
        "we can conclude that the model performance is still low."
      ],
      "metadata": {
        "id": "2aq5hprLW3rV"
      }
    },
    {
      "cell_type": "markdown",
      "source": [
        "**XGBoost Regressor**"
      ],
      "metadata": {
        "id": "EBjmdG0Fk2Av"
      }
    },
    {
      "cell_type": "code",
      "source": [
        "#Importing and Implementing XGBoost_Regressor\n",
        "\n",
        "import xgboost as xgb\n",
        "\n",
        "X = df_new[independent_variables].values\n",
        "y = df_new[dependent_variable].values\n",
        "\n",
        "X_train, X_test, y_train, y_test = train_test_split(X,y,test_size=0.20, random_state=42)\n",
        "dreg= xgb.XGBRegressor(\n",
        "                        booster= 'gbtree',\n",
        "                        colsample_bylevel= 1,\n",
        "                        colsample_bynode= 1,\n",
        "                        colsample_bytree= 0.7,\n",
        "                        eta= 0.004,\n",
        "                        gamma= 0,\n",
        "                        importance_type= 'gain',\n",
        "                        learning_rate= 0.1,\n",
        "                        max_delta_step= 0,\n",
        "                        max_depth= 9,\n",
        "                        min_child_weight= 10,\n",
        "                        n_estimators= 100,\n",
        "                        n_jobs= 1,\n",
        "                        objective= 'reg:linear',\n",
        "                        random_state= 0,\n",
        "                        reg_alpha= 0,\n",
        "                        reg_lambda= 1,\n",
        "                        scale_pos_weight= 1,\n",
        "                        subsample= 1,\n",
        "                        verbosity= 1)\n",
        "dreg.fit(X_train, y_train)\n",
        "y_pred_train=dreg.predict(X_train)\n",
        "y_pred = dreg.predict(X_test)\n",
        "\n",
        "#Finding R2 Score\n",
        "\n",
        "r2 = r2_score(y_test, y_pred)\n",
        "r2_train = r2_score(y_train, y_pred_train)\n",
        "\n",
        "#Finding Adjusted R2 Score\n",
        "\n",
        "adj_r2=1-(1-r2_score(y_test, y_pred))*((X_test.shape[0]-1)/(X_test.shape[0]-X_test.shape[1]-1))\n",
        "train_score = dreg.score(X_train, y_train)\n",
        "test_score = dreg.score(X_test,y_test)\n",
        "print(\"\\nR2 Score for Test : \",r2)\n",
        "print(\"R2 Score for Training : \",r2_train)\n",
        "print(\"Adjusted R2 Score : \",adj_r2)\n",
        "print(f'\\nXGBoost_Regressor Training score : {train_score}')\n",
        "print(f'XGBoost_Regressor Test score : {test_score}')\n"
      ],
      "metadata": {
        "id": "6X6Ty8r597Kf",
        "colab": {
          "base_uri": "https://localhost:8080/"
        },
        "outputId": "98c1e9ca-e639-432b-b446-cd593d869f99"
      },
      "execution_count": 220,
      "outputs": [
        {
          "output_type": "stream",
          "name": "stdout",
          "text": [
            "[11:17:43] WARNING: /workspace/src/objective/regression_obj.cu:152: reg:linear is now deprecated in favor of reg:squarederror.\n",
            "\n",
            "R2 Score for Test :  0.966956403660963\n",
            "R2 Score for Training :  0.971573000379783\n",
            "Adjusted R2 Score :  0.966914758798878\n",
            "\n",
            "XGBoost_Regressor Training score : 0.971573000379783\n",
            "XGBoost_Regressor Test score : 0.966956403660963\n"
          ]
        }
      ]
    },
    {
      "cell_type": "code",
      "source": [
        "print('MSE Value : {}'.format(mean_squared_error(y_test, y_pred)))\n",
        "print('MAE Value : {}'.format(mean_absolute_error(y_test, y_pred)))"
      ],
      "metadata": {
        "id": "p970GE4Zndm5",
        "colab": {
          "base_uri": "https://localhost:8080/"
        },
        "outputId": "7be3b7e1-f542-4d1c-9bb0-3b76362ccf64"
      },
      "execution_count": 221,
      "outputs": [
        {
          "output_type": "stream",
          "name": "stdout",
          "text": [
            "MSE Value : 5.0499606877057905\n",
            "MAE Value : 1.5040802763581496\n"
          ]
        }
      ]
    },
    {
      "cell_type": "markdown",
      "source": [
        "Inference: R2 for train and test split prediction is 0.92\n",
        "we conclude that a model performance is very high and fall under the accepted range."
      ],
      "metadata": {
        "id": "8rwWK-e5XYt4"
      }
    },
    {
      "cell_type": "markdown",
      "source": [
        "**We will be using  algorithms for each :**\n",
        "\n",
        " **GridSearchCV** \n",
        " \n",
        " **Hyperparametertunning**\n"
      ],
      "metadata": {
        "id": "4JLSYJ07oNkn"
      }
    },
    {
      "cell_type": "code",
      "source": [
        "import xgboost as xgb\n",
        "\n",
        "xgb = xgb.XGBRegressor()"
      ],
      "metadata": {
        "id": "sIpRnEQeojHR"
      },
      "execution_count": 222,
      "outputs": []
    },
    {
      "cell_type": "code",
      "source": [
        "#Parameters for Hyperparametertunning\n",
        "\n",
        "params = {\"min_child_weight\":[10,20], \n",
        "            'eta': [0.004,0.04,4,40], \n",
        "            'colsample_bytree':[0.7], \n",
        "            'max_depth': [7,9,11],}"
      ],
      "metadata": {
        "id": "WVYQCxyzoqFh"
      },
      "execution_count": 223,
      "outputs": []
    },
    {
      "cell_type": "code",
      "source": [
        "import warnings\n",
        "warnings.simplefilter(\"ignore\")\n",
        "\n",
        "#GridsearchCV implementation\n",
        "\n",
        "X = df_new[independent_variables].values\n",
        "y = df_new[dependent_variable].values\n",
        "\n",
        "#X_train, X_test, y_train, y_test = train_test_split(X,y,test_size=0.33, random_state=42)\n",
        "\n",
        "reg_gs = GridSearchCV(xgb,param_grid=params, verbose=1,cv=3)\n",
        "reg_gs.fit(X, y)"
      ],
      "metadata": {
        "id": "bJDrc5EHouOJ",
        "colab": {
          "base_uri": "https://localhost:8080/"
        },
        "outputId": "f3c4d343-e9a9-4dad-8986-a288965e1303"
      },
      "execution_count": 224,
      "outputs": [
        {
          "output_type": "stream",
          "name": "stdout",
          "text": [
            "Fitting 3 folds for each of 24 candidates, totalling 72 fits\n",
            "[11:17:49] WARNING: /workspace/src/objective/regression_obj.cu:152: reg:linear is now deprecated in favor of reg:squarederror.\n",
            "[11:17:52] WARNING: /workspace/src/objective/regression_obj.cu:152: reg:linear is now deprecated in favor of reg:squarederror.\n",
            "[11:17:55] WARNING: /workspace/src/objective/regression_obj.cu:152: reg:linear is now deprecated in favor of reg:squarederror.\n",
            "[11:17:58] WARNING: /workspace/src/objective/regression_obj.cu:152: reg:linear is now deprecated in favor of reg:squarederror.\n",
            "[11:18:02] WARNING: /workspace/src/objective/regression_obj.cu:152: reg:linear is now deprecated in favor of reg:squarederror.\n",
            "[11:18:05] WARNING: /workspace/src/objective/regression_obj.cu:152: reg:linear is now deprecated in favor of reg:squarederror.\n",
            "[11:18:08] WARNING: /workspace/src/objective/regression_obj.cu:152: reg:linear is now deprecated in favor of reg:squarederror.\n",
            "[11:18:12] WARNING: /workspace/src/objective/regression_obj.cu:152: reg:linear is now deprecated in favor of reg:squarederror.\n",
            "[11:18:16] WARNING: /workspace/src/objective/regression_obj.cu:152: reg:linear is now deprecated in favor of reg:squarederror.\n",
            "[11:18:19] WARNING: /workspace/src/objective/regression_obj.cu:152: reg:linear is now deprecated in favor of reg:squarederror.\n",
            "[11:18:23] WARNING: /workspace/src/objective/regression_obj.cu:152: reg:linear is now deprecated in favor of reg:squarederror.\n",
            "[11:18:27] WARNING: /workspace/src/objective/regression_obj.cu:152: reg:linear is now deprecated in favor of reg:squarederror.\n",
            "[11:18:30] WARNING: /workspace/src/objective/regression_obj.cu:152: reg:linear is now deprecated in favor of reg:squarederror.\n",
            "[11:18:35] WARNING: /workspace/src/objective/regression_obj.cu:152: reg:linear is now deprecated in favor of reg:squarederror.\n",
            "[11:18:40] WARNING: /workspace/src/objective/regression_obj.cu:152: reg:linear is now deprecated in favor of reg:squarederror.\n",
            "[11:18:44] WARNING: /workspace/src/objective/regression_obj.cu:152: reg:linear is now deprecated in favor of reg:squarederror.\n",
            "[11:18:49] WARNING: /workspace/src/objective/regression_obj.cu:152: reg:linear is now deprecated in favor of reg:squarederror.\n",
            "[11:18:53] WARNING: /workspace/src/objective/regression_obj.cu:152: reg:linear is now deprecated in favor of reg:squarederror.\n",
            "[11:18:58] WARNING: /workspace/src/objective/regression_obj.cu:152: reg:linear is now deprecated in favor of reg:squarederror.\n",
            "[11:19:01] WARNING: /workspace/src/objective/regression_obj.cu:152: reg:linear is now deprecated in favor of reg:squarederror.\n",
            "[11:19:03] WARNING: /workspace/src/objective/regression_obj.cu:152: reg:linear is now deprecated in favor of reg:squarederror.\n",
            "[11:19:06] WARNING: /workspace/src/objective/regression_obj.cu:152: reg:linear is now deprecated in favor of reg:squarederror.\n",
            "[11:19:09] WARNING: /workspace/src/objective/regression_obj.cu:152: reg:linear is now deprecated in favor of reg:squarederror.\n",
            "[11:19:12] WARNING: /workspace/src/objective/regression_obj.cu:152: reg:linear is now deprecated in favor of reg:squarederror.\n",
            "[11:19:15] WARNING: /workspace/src/objective/regression_obj.cu:152: reg:linear is now deprecated in favor of reg:squarederror.\n",
            "[11:19:19] WARNING: /workspace/src/objective/regression_obj.cu:152: reg:linear is now deprecated in favor of reg:squarederror.\n",
            "[11:19:23] WARNING: /workspace/src/objective/regression_obj.cu:152: reg:linear is now deprecated in favor of reg:squarederror.\n",
            "[11:19:26] WARNING: /workspace/src/objective/regression_obj.cu:152: reg:linear is now deprecated in favor of reg:squarederror.\n",
            "[11:19:30] WARNING: /workspace/src/objective/regression_obj.cu:152: reg:linear is now deprecated in favor of reg:squarederror.\n",
            "[11:19:34] WARNING: /workspace/src/objective/regression_obj.cu:152: reg:linear is now deprecated in favor of reg:squarederror.\n",
            "[11:19:38] WARNING: /workspace/src/objective/regression_obj.cu:152: reg:linear is now deprecated in favor of reg:squarederror.\n",
            "[11:19:42] WARNING: /workspace/src/objective/regression_obj.cu:152: reg:linear is now deprecated in favor of reg:squarederror.\n",
            "[11:19:47] WARNING: /workspace/src/objective/regression_obj.cu:152: reg:linear is now deprecated in favor of reg:squarederror.\n",
            "[11:19:52] WARNING: /workspace/src/objective/regression_obj.cu:152: reg:linear is now deprecated in favor of reg:squarederror.\n",
            "[11:19:56] WARNING: /workspace/src/objective/regression_obj.cu:152: reg:linear is now deprecated in favor of reg:squarederror.\n",
            "[11:20:01] WARNING: /workspace/src/objective/regression_obj.cu:152: reg:linear is now deprecated in favor of reg:squarederror.\n",
            "[11:20:05] WARNING: /workspace/src/objective/regression_obj.cu:152: reg:linear is now deprecated in favor of reg:squarederror.\n",
            "[11:20:08] WARNING: /workspace/src/objective/regression_obj.cu:152: reg:linear is now deprecated in favor of reg:squarederror.\n",
            "[11:20:12] WARNING: /workspace/src/objective/regression_obj.cu:152: reg:linear is now deprecated in favor of reg:squarederror.\n",
            "[11:20:16] WARNING: /workspace/src/objective/regression_obj.cu:152: reg:linear is now deprecated in favor of reg:squarederror.\n",
            "[11:20:19] WARNING: /workspace/src/objective/regression_obj.cu:152: reg:linear is now deprecated in favor of reg:squarederror.\n",
            "[11:20:21] WARNING: /workspace/src/objective/regression_obj.cu:152: reg:linear is now deprecated in favor of reg:squarederror.\n",
            "[11:20:24] WARNING: /workspace/src/objective/regression_obj.cu:152: reg:linear is now deprecated in favor of reg:squarederror.\n",
            "[11:20:28] WARNING: /workspace/src/objective/regression_obj.cu:152: reg:linear is now deprecated in favor of reg:squarederror.\n",
            "[11:20:32] WARNING: /workspace/src/objective/regression_obj.cu:152: reg:linear is now deprecated in favor of reg:squarederror.\n",
            "[11:20:36] WARNING: /workspace/src/objective/regression_obj.cu:152: reg:linear is now deprecated in favor of reg:squarederror.\n",
            "[11:20:39] WARNING: /workspace/src/objective/regression_obj.cu:152: reg:linear is now deprecated in favor of reg:squarederror.\n",
            "[11:20:43] WARNING: /workspace/src/objective/regression_obj.cu:152: reg:linear is now deprecated in favor of reg:squarederror.\n",
            "[11:20:47] WARNING: /workspace/src/objective/regression_obj.cu:152: reg:linear is now deprecated in favor of reg:squarederror.\n",
            "[11:20:51] WARNING: /workspace/src/objective/regression_obj.cu:152: reg:linear is now deprecated in favor of reg:squarederror.\n",
            "[11:20:56] WARNING: /workspace/src/objective/regression_obj.cu:152: reg:linear is now deprecated in favor of reg:squarederror.\n",
            "[11:21:01] WARNING: /workspace/src/objective/regression_obj.cu:152: reg:linear is now deprecated in favor of reg:squarederror.\n",
            "[11:21:05] WARNING: /workspace/src/objective/regression_obj.cu:152: reg:linear is now deprecated in favor of reg:squarederror.\n",
            "[11:21:10] WARNING: /workspace/src/objective/regression_obj.cu:152: reg:linear is now deprecated in favor of reg:squarederror.\n",
            "[11:21:15] WARNING: /workspace/src/objective/regression_obj.cu:152: reg:linear is now deprecated in favor of reg:squarederror.\n",
            "[11:21:17] WARNING: /workspace/src/objective/regression_obj.cu:152: reg:linear is now deprecated in favor of reg:squarederror.\n",
            "[11:21:20] WARNING: /workspace/src/objective/regression_obj.cu:152: reg:linear is now deprecated in favor of reg:squarederror.\n",
            "[11:21:23] WARNING: /workspace/src/objective/regression_obj.cu:152: reg:linear is now deprecated in favor of reg:squarederror.\n",
            "[11:21:26] WARNING: /workspace/src/objective/regression_obj.cu:152: reg:linear is now deprecated in favor of reg:squarederror.\n",
            "[11:21:29] WARNING: /workspace/src/objective/regression_obj.cu:152: reg:linear is now deprecated in favor of reg:squarederror.\n",
            "[11:21:32] WARNING: /workspace/src/objective/regression_obj.cu:152: reg:linear is now deprecated in favor of reg:squarederror.\n",
            "[11:21:36] WARNING: /workspace/src/objective/regression_obj.cu:152: reg:linear is now deprecated in favor of reg:squarederror.\n",
            "[11:21:39] WARNING: /workspace/src/objective/regression_obj.cu:152: reg:linear is now deprecated in favor of reg:squarederror.\n",
            "[11:21:43] WARNING: /workspace/src/objective/regression_obj.cu:152: reg:linear is now deprecated in favor of reg:squarederror.\n",
            "[11:21:47] WARNING: /workspace/src/objective/regression_obj.cu:152: reg:linear is now deprecated in favor of reg:squarederror.\n",
            "[11:21:51] WARNING: /workspace/src/objective/regression_obj.cu:152: reg:linear is now deprecated in favor of reg:squarederror.\n",
            "[11:21:54] WARNING: /workspace/src/objective/regression_obj.cu:152: reg:linear is now deprecated in favor of reg:squarederror.\n",
            "[11:21:59] WARNING: /workspace/src/objective/regression_obj.cu:152: reg:linear is now deprecated in favor of reg:squarederror.\n",
            "[11:22:04] WARNING: /workspace/src/objective/regression_obj.cu:152: reg:linear is now deprecated in favor of reg:squarederror.\n",
            "[11:22:08] WARNING: /workspace/src/objective/regression_obj.cu:152: reg:linear is now deprecated in favor of reg:squarederror.\n",
            "[11:22:13] WARNING: /workspace/src/objective/regression_obj.cu:152: reg:linear is now deprecated in favor of reg:squarederror.\n",
            "[11:22:18] WARNING: /workspace/src/objective/regression_obj.cu:152: reg:linear is now deprecated in favor of reg:squarederror.\n",
            "[11:22:22] WARNING: /workspace/src/objective/regression_obj.cu:152: reg:linear is now deprecated in favor of reg:squarederror.\n"
          ]
        },
        {
          "output_type": "execute_result",
          "data": {
            "text/plain": [
              "GridSearchCV(cv=3, estimator=XGBRegressor(),\n",
              "             param_grid={'colsample_bytree': [0.7], 'eta': [0.004, 0.04, 4, 40],\n",
              "                         'max_depth': [7, 9, 11],\n",
              "                         'min_child_weight': [10, 20]},\n",
              "             verbose=1)"
            ]
          },
          "metadata": {},
          "execution_count": 224
        }
      ]
    },
    {
      "cell_type": "code",
      "source": [
        "#Best Estimotor parameters\n",
        "\n",
        "reg_gs.best_estimator_.get_params()"
      ],
      "metadata": {
        "id": "1NqYQdysqVJw",
        "colab": {
          "base_uri": "https://localhost:8080/"
        },
        "outputId": "56d271d3-6b78-4b16-dbd4-32ba4937393e"
      },
      "execution_count": 225,
      "outputs": [
        {
          "output_type": "execute_result",
          "data": {
            "text/plain": [
              "{'base_score': 0.5,\n",
              " 'booster': 'gbtree',\n",
              " 'colsample_bylevel': 1,\n",
              " 'colsample_bynode': 1,\n",
              " 'colsample_bytree': 0.7,\n",
              " 'gamma': 0,\n",
              " 'importance_type': 'gain',\n",
              " 'learning_rate': 0.1,\n",
              " 'max_delta_step': 0,\n",
              " 'max_depth': 7,\n",
              " 'min_child_weight': 20,\n",
              " 'missing': None,\n",
              " 'n_estimators': 100,\n",
              " 'n_jobs': 1,\n",
              " 'nthread': None,\n",
              " 'objective': 'reg:linear',\n",
              " 'random_state': 0,\n",
              " 'reg_alpha': 0,\n",
              " 'reg_lambda': 1,\n",
              " 'scale_pos_weight': 1,\n",
              " 'seed': None,\n",
              " 'silent': None,\n",
              " 'subsample': 1,\n",
              " 'verbosity': 1,\n",
              " 'eta': 0.004}"
            ]
          },
          "metadata": {},
          "execution_count": 225
        }
      ]
    },
    {
      "cell_type": "code",
      "source": [
        "reg_optimal_model =reg_gs.best_estimator_\n",
        "train_preds = reg_optimal_model.predict(X_train)\n",
        "test_preds = reg_optimal_model.predict(X_test)"
      ],
      "metadata": {
        "id": "jxsSHKWyqW_C"
      },
      "execution_count": 226,
      "outputs": []
    },
    {
      "cell_type": "code",
      "source": [
        "print('GridSearchCV Training Score : ',reg_optimal_model.score(X_train,y_train))\n",
        "print('GridSearchCV Test Score : ',reg_optimal_model.score(X_test,y_test))"
      ],
      "metadata": {
        "id": "NWun-zmjqkDS",
        "colab": {
          "base_uri": "https://localhost:8080/"
        },
        "outputId": "851c0b9f-76a2-45d2-f51e-12eec248bd0f"
      },
      "execution_count": 227,
      "outputs": [
        {
          "output_type": "stream",
          "name": "stdout",
          "text": [
            "GridSearchCV Training Score :  0.9224210573363668\n",
            "GridSearchCV Test Score :  0.9236067106046152\n"
          ]
        }
      ]
    },
    {
      "cell_type": "code",
      "source": [
        "#R2 and Adjusted R2 Scores for GridsearchCV regressor\n",
        "\n",
        "r2_test = r2_score(y_test, test_preds)\n",
        "adj_r2 = 1-(1-r2_score(y_test, test_preds))*((X_test.shape[0]-1)/(X_test.shape[0]-X_test.shape[1]-1))\n",
        "print(\"R2 Score : \",r2_test)\n",
        "print(\"Adjusted R2 Score : \",adj_r2)"
      ],
      "metadata": {
        "id": "kkSyi0iwqoLa",
        "colab": {
          "base_uri": "https://localhost:8080/"
        },
        "outputId": "f6f53a69-e4a9-40d4-9ddb-2991f7f232c2"
      },
      "execution_count": 228,
      "outputs": [
        {
          "output_type": "stream",
          "name": "stdout",
          "text": [
            "R2 Score :  0.9236067106046152\n",
            "Adjusted R2 Score :  0.9235104321012569\n"
          ]
        }
      ]
    },
    {
      "cell_type": "code",
      "source": [
        "print('MAE Value {}'.format(mean_absolute_error(y_test, test_preds)))\n",
        "print('MSE Value {}'.format(mean_squared_error(y_test, test_preds)))"
      ],
      "metadata": {
        "id": "eMdArBJMoyDV",
        "colab": {
          "base_uri": "https://localhost:8080/"
        },
        "outputId": "76232359-72d8-4b18-cb08-cfc60ddac953"
      },
      "execution_count": 229,
      "outputs": [
        {
          "output_type": "stream",
          "name": "stdout",
          "text": [
            "MAE Value 2.3990810178685527\n",
            "MSE Value 11.67497339856645\n"
          ]
        }
      ]
    },
    {
      "cell_type": "markdown",
      "source": [
        "Inference: R2 value for Gridsearch Cv for XGBoost Regressor is 0.98\n",
        "we conclude that a model considered as very high and fall under the accepted range"
      ],
      "metadata": {
        "id": "CY9HkPqEYYux"
      }
    },
    {
      "cell_type": "markdown",
      "source": [
        "# **Epilogue**\n",
        "\n",
        "Challenges faced:\n",
        "\n",
        "*   Feature engineering – to get the more required features that will ease the further analysis\n",
        "\n",
        "* What should be the dependent variables  \n",
        " \n",
        "*   To filter the given data\n",
        "*   Feature to be selected to get the required output\n",
        "\n",
        "**Work Done by Team**\n",
        "\n",
        "\n",
        "Nairobi Public Transport Demand Prediction was done by the group of four members-Abhishek kirar, Ganesh Subramanian, Mayur Chulbhare and Syed Aquib.\n",
        "\n",
        "As soon as we downloaded the Nairobi public transport demand CSV file from Almabetter Dashboard then we uploaded the file in colab notebook through the drive. All the member in group were parcipated equally throughout the project. We used our experience from previous EDA project. As a team we read the data present in the file and gone through the data of each columns in detail as individual.The data was huge from which some of it was not needed for the analysis.\n",
        "\n",
        "The data was cleaned and created the new dataframe and columns we required for the analysis. Each and every columns were compared to gain the knowledge about the data. Worked individually and gained insights doing some EDA. The first problem we faced was the name of the columns and nan values present in the data.We renamed the columns by using a dictionary format, we replaced all nan values to Zero in int dtype and unknown in object dtype by using .replace syntax. By getting info of dataframe we plotted graphs for each data to understand and visualized thoroughly. We splitted dataset into training and testing data  to predict model. We predictted modelling by using Linear Regression, Regularized linear regression(Ridge and Lasso), XGboost regresssor and also we tuned the parameters of  XGboost regressor and found the important features for training the model. Out of them XGboost with tuned hyperparameters gave the best result.\n",
        "\n",
        "**The resulting model suppoe to be very useful for Mobiticket and Bus operators to anticipate customer demand for certain rides, to manage resources and vehicles more efficiently, to promote offers and sell other services more effectively, such as micro-insurance, or even improve customer service by being able to send alerts and other useful information to customers.**\n"
      ],
      "metadata": {
        "id": "GhKjZtiY1Dqe"
      }
    }
  ]
}